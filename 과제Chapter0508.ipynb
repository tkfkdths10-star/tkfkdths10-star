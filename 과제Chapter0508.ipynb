{
  "cells": [
    {
      "cell_type": "markdown",
      "metadata": {
        "id": "WXEwMsfUct7U"
      },
      "source": [
        "안녕하세요.<br><br>\n",
        "수강생 여러분~! Chapter05 ~ 08 수업은 잘 들으셨나요?\n",
        "\n",
        "Chapter05 ~ 08의 수업 내용을 바탕으로 아래 문제를 풀어주시면 됩니다.\n",
        "\n",
        "<br>\n",
        "\n",
        "\n",
        "[**답변 입력 방법**]\n",
        "\n",
        "문제 아래에 있는 코드 입력창에 정답코드를 작성하신 후  __▷ 버튼을 클릭해 코드를 실행__ 해보세요<br>"
      ]
    },
    {
      "cell_type": "markdown",
      "metadata": {
        "id": "qoyC9wF-3hvs"
      },
      "source": [
        "-----"
      ]
    },
    {
      "cell_type": "markdown",
      "metadata": {
        "id": "CZg2AEomz_1w"
      },
      "source": [
        "## 모험가들의 레벨업 도전\n",
        "\n",
        "### [배경 이야기]\n",
        "\n",
        "당신은 마법사, 전사, 도적, 힐러 네 명의 모험가를 이끄는 리더입니다.\n",
        "\n",
        "각 캐릭터는 힘, 민첩, 지능, 체력이라는 능력치를 가지고 있습니다. 이 능력치들을 이용해 다양한 도전을 해결하고 사냥을 통해 경험치를 얻어 레벨업을 해야 합니다.\n",
        "\n",
        "<br>\n",
        "\n",
        "### [동료 캐릭터와 능력치 정보]\n",
        "\n",
        "마법사: 힘(10), 민첩(20), 지능(80), 체력(50)\n",
        "\n",
        "전사: 힘(80), 민첩(30), 지능(20), 체력(100)\n",
        "\n",
        "도적: 힘(40), 민첩(80), 지능(30), 체력(60)\n",
        "\n",
        "힐러: 힘(20), 민첩(40), 지능(70), 체력(70)\n",
        "\n",
        "<br>\n",
        "\n",
        "* 변수명을 영어로 변경해서 풀어보세요 !"
      ]
    },
    {
      "cell_type": "code",
      "source": [
        "#마법사\n",
        "wizard_strength = 10\n",
        "wizard_agility = 20\n",
        "wizard_int = 80\n",
        "wizard_health = 50\n",
        "#전사\n",
        "warrior_strength = 80\n",
        "warrior_agility = 30\n",
        "warrior_int = 20\n",
        "warrior_health = 100\n",
        "#도적\n",
        "bandit_strength = 40\n",
        "bandit_agility = 80\n",
        "bandit_int = 30\n",
        "bandit_health = 60\n",
        "#힐러\n",
        "Healer_strength = 20\n",
        "Healer_agility = 40\n",
        "Healer_int = 70\n",
        "Healer_health = 70"
      ],
      "metadata": {
        "id": "ziGbWizr149c"
      },
      "execution_count": null,
      "outputs": []
    },
    {
      "cell_type": "markdown",
      "metadata": {
        "id": "AM7P3U5bz_1w"
      },
      "source": [
        "<br>\n",
        "\n",
        "__[문제 1: 첫 번째 사냥]__\n",
        "\n",
        "마법사는 몬스터를 사냥하기 위해 마법을 사용합니다.\n",
        "\n",
        "마법을 사용하려면 지능이 50 이상이어야 합니다.\n",
        "\n",
        "마법사의 지능이 50 이상인지 확인하세요."
      ]
    },
    {
      "cell_type": "code",
      "execution_count": 200,
      "metadata": {
        "colab": {
          "base_uri": "https://localhost:8080/"
        },
        "id": "7F_DyIuEz_1x",
        "outputId": "bde3cd7a-9525-4184-9047-a0ae69966aed"
      },
      "outputs": [
        {
          "output_type": "stream",
          "name": "stdout",
          "text": [
            "마법사 인트는80입니다.\n",
            "마법사의 지능이 충족해 마법을 사용합니다.\n",
            "True\n"
          ]
        }
      ],
      "source": [
        "wizard_int = 80\n",
        "print(f'마법사 인트는{wizard_int}입니다.')\n",
        "\n",
        "magic = wizard_int >= 50\n",
        "if wizard_int:\n",
        "    print(\"마법사의 지능이 충족해 마법을 사용합니다.\")\n",
        "else:\n",
        "    print(\"마법사의 지능이 부족해 마법사용에 실패합니다.\")\n",
        "\n",
        "print(magic)\n",
        "\n",
        "\n",
        "\n"
      ]
    },
    {
      "cell_type": "markdown",
      "metadata": {
        "id": "8kzFopUgz_1x"
      },
      "source": [
        "<br>\n",
        "\n",
        "__[문제 2: 두 번째 사냥]__\n",
        "\n",
        "전사는 강력한 공격을 하기 위해 자신의 힘을 사용합니다.\n",
        "\n",
        "전사의 힘이 60 이상이고 체력이 80 이상인지 확인하세요."
      ]
    },
    {
      "cell_type": "code",
      "execution_count": 192,
      "metadata": {
        "id": "wk2NAoFvz_1x",
        "colab": {
          "base_uri": "https://localhost:8080/"
        },
        "outputId": "6765950f-eac2-4146-c9ce-e7d8ab461cf6"
      },
      "outputs": [
        {
          "output_type": "stream",
          "name": "stdout",
          "text": [
            "전사의 힘은80\n",
            "전사의 체력은100\n",
            "전사의 능력치가 충족해 강력한 공격을 합니다.\n",
            "(True, True)\n"
          ]
        }
      ],
      "source": [
        "warrior_strength = 80\n",
        "print(f'전사의 힘은{warrior_strength}')\n",
        "warrior_health = 100\n",
        "print(f'전사의 체력은{warrior_health}')\n",
        "\n",
        "fulpower_attack = warrior_strength >= 60 , warrior_health >= 80\n",
        "if warrior_strength:\n",
        "    print(\"전사의 능력치가 충족해 강력한 공격을 합니다.\")\n",
        "else:\n",
        "    print(\"전사의 능력치가 부족해 강력한 공격에 실패합니다.\")\n",
        "print(fulpower_attack)"
      ]
    },
    {
      "cell_type": "markdown",
      "metadata": {
        "id": "fw09L4jHz_1x"
      },
      "source": [
        "<br>\n",
        "\n",
        "__[문제 3: 세 번째 사냥]__\n",
        "\n",
        "도적은 민첩함을 이용해 몬스터를 회피하고 공격합니다.\n",
        "\n",
        "도적의 민첩이 70 이상이거나 힘이 50 이상인지 확인하세요."
      ]
    },
    {
      "cell_type": "code",
      "execution_count": 194,
      "metadata": {
        "id": "8QZmvnQUz_1y",
        "colab": {
          "base_uri": "https://localhost:8080/"
        },
        "outputId": "947a4d04-b92d-41cb-8579-678677e18a47"
      },
      "outputs": [
        {
          "output_type": "stream",
          "name": "stdout",
          "text": [
            "도적의 민첩은:80\n",
            "도적의 힘은:50\n",
            "도적의 능력치가 충족해 몬스터를 회피하고 공격합니다.\n",
            "(True, True)\n"
          ]
        }
      ],
      "source": [
        "bandit_agility = 80\n",
        "print(f'도적의 민첩은:{bandit_agility}')\n",
        "bandit_strength = 50\n",
        "print(f'도적의 힘은:{bandit_strength}')\n",
        "\n",
        "attack = bandit_agility >= 70, bandit_strength >= 50\n",
        "if bandit_agility:\n",
        "    print(\"도적의 능력치가 충족해 몬스터를 회피하고 공격합니다.\")\n",
        "else:\n",
        "    print(\"도적의 능력치가 부족해 회피에 실패했습니다.\")\n",
        "\n",
        "print(attack)"
      ]
    },
    {
      "cell_type": "markdown",
      "metadata": {
        "id": "f6z2ki_3z_1y"
      },
      "source": [
        "<br>\n",
        "\n",
        "__[문제 4: 네 번째 사냥]__\n",
        "\n",
        "힐러는 파티의 체력을 회복시키기 위해 마법을 사용합니다.\n",
        "\n",
        "힐러의 지능이 60 이상이고, 체력이 50 이상인지 확인하세요."
      ]
    },
    {
      "cell_type": "code",
      "execution_count": 202,
      "metadata": {
        "id": "86iid7K3z_1y",
        "colab": {
          "base_uri": "https://localhost:8080/"
        },
        "outputId": "3166fe1f-465c-4cf9-aea9-e0e24a278716"
      },
      "outputs": [
        {
          "output_type": "stream",
          "name": "stdout",
          "text": [
            "힐러의 지능은:70\n",
            "힐러의 체력은:70\n",
            "힐러의 능력치가 충족해 힐을 사용합니다.\n",
            "(True, True)\n"
          ]
        }
      ],
      "source": [
        "Healer_int = 70\n",
        "print(f'힐러의 지능은:{Healer_int}')\n",
        "Healer_health = 70\n",
        "print(f'힐러의 체력은:{Healer_health}')\n",
        "\n",
        "heel = Healer_int >= 60, Healer_health >= 50\n",
        "if Healer_int:\n",
        "    print(\"힐러의 능력치가 충족해 힐을 사용합니다.\")\n",
        "else:\n",
        "    print(\"힐러의 능력리가 부족해 힐 사용에 실패합니다.\")\n",
        "\n",
        "print(heel)\n"
      ]
    },
    {
      "cell_type": "markdown",
      "metadata": {
        "id": "KQnvVzz7z_1y"
      },
      "source": [
        "<br>\n",
        "\n",
        "__[문제 5: 레벨업]__\n",
        "\n",
        "모든 캐릭터가 사냥을 성공적으로 마쳤습니다. 이제 경험치를 얻어 레벨업을 해야 합니다.\n",
        "\n",
        "\n",
        "각 캐릭터의 경험치가 100 이상인지 print()를 이용해 확인해주세요.\n",
        "\n",
        "<br>\n",
        "\n",
        "경험치는 아래와 같습니다.\n",
        "\n",
        "마법사: 120\n",
        "\n",
        "전사: 150\n",
        "\n",
        "도적: 110\n",
        "\n",
        "힐러: 90\n",
        "\n"
      ]
    },
    {
      "cell_type": "code",
      "execution_count": 226,
      "metadata": {
        "id": "Pw4HqgHez_1y",
        "colab": {
          "base_uri": "https://localhost:8080/"
        },
        "outputId": "75f3466e-8d40-4a8e-dfa8-abdcaf147c56"
      },
      "outputs": [
        {
          "output_type": "stream",
          "name": "stdout",
          "text": [
            "마법사의 경험치:120\n",
            "전사의 경험치:150\n",
            "도적의 경험치:110\n",
            "힐러의 경험치:90\n",
            "마법사의 경험치가 100을 넘어 레벨업 할 수 있습니다.\n",
            "전사의 경험치가 100을 넘어 레벨업 할 수 있습니다.\n",
            "도적의 경험치가 100을 넘어 레벨업 할 수 있습니다.\n",
            "힐러의 경험치가 100을 넘지 못해 레벨업 할 수 없습니다.\n",
            "True\n",
            "True\n",
            "True\n",
            "False\n"
          ]
        }
      ],
      "source": [
        "wizard_exp = 120\n",
        "print(f'마법사의 경험치:{wizard_exp}')\n",
        "warrior_exp = 150\n",
        "print(f'전사의 경험치:{warrior_exp}')\n",
        "bandit_exp = 110\n",
        "print(f'도적의 경험치:{bandit_exp}')\n",
        "Healer_exp = 90\n",
        "print(f'힐러의 경험치:{Healer_exp}')\n",
        "\n",
        "wizard_Level_up = wizard_exp >= 100\n",
        "if wizard_exp:\n",
        "    print(\"마법사의 경험치가 100을 넘어 레벨업 할 수 있습니다.\")\n",
        "else:\n",
        "    print(\"마법사의 경험치가 100을 넘지 못해 레벨업 할 수 없습니다.\")\n",
        "warrior_Level_up = warrior_exp >= 100\n",
        "if warrior_exp:\n",
        "    print(\"전사의 경험치가 100을 넘어 레벨업 할 수 있습니다.\")\n",
        "else:\n",
        "    print(\"전사의 경험치가 100을 넘지 못해 레벨업 할 수 없습니다.\")\n",
        "bandit_Level_up = bandit_exp >= 100\n",
        "if bandit_exp:\n",
        "    print(\"도적의 경험치가 100을 넘어 레벨업 할 수 있습니다.\")\n",
        "else:\n",
        "    print(\"도적의 경험치가 100을 넘지 못해 레벨업 할 수 없습니다.\")\n",
        "Healer_Level_up = Healer_exp >= 100\n",
        "if Healer_exp:\n",
        "    print(\"힐러의 경험치가 100을 넘지 못해 레벨업 할 수 없습니다.\")\n",
        "else:\n",
        "    print(\"힐러의 경험치가 100을 넘어 레벨업 할 수 있습니다.\")\n",
        "\n",
        "print(wizard_Level_up)\n",
        "print(warrior_Level_up)\n",
        "print(bandit_Level_up)\n",
        "print(Healer_Level_up)\n"
      ]
    },
    {
      "cell_type": "code",
      "source": [],
      "metadata": {
        "id": "_yVkIgGbwGF8"
      },
      "execution_count": null,
      "outputs": []
    }
  ],
  "metadata": {
    "colab": {
      "provenance": []
    },
    "kernelspec": {
      "display_name": "Python 3",
      "name": "python3"
    },
    "language_info": {
      "name": "python"
    }
  },
  "nbformat": 4,
  "nbformat_minor": 0
}