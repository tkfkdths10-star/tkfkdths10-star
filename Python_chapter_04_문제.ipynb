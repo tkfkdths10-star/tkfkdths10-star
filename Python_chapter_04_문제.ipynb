{
  "nbformat": 4,
  "nbformat_minor": 0,
  "metadata": {
    "colab": {
      "provenance": [],
      "include_colab_link": true
    },
    "kernelspec": {
      "name": "python3",
      "display_name": "Python 3"
    },
    "language_info": {
      "name": "python"
    }
  },
  "cells": [
    {
      "cell_type": "markdown",
      "metadata": {
        "id": "view-in-github",
        "colab_type": "text"
      },
      "source": [
        "<a href=\"https://colab.research.google.com/github/tkfkdths10-star/tkfkdths10-star/blob/main/Python_chapter_04_%E1%84%86%E1%85%AE%E1%86%AB%E1%84%8C%E1%85%A6.ipynb\" target=\"_parent\"><img src=\"https://colab.research.google.com/assets/colab-badge.svg\" alt=\"Open In Colab\"/></a>"
      ]
    },
    {
      "cell_type": "markdown",
      "source": [
        "사칙연산\n",
        "\n",
        "더하기 : +\n",
        "\n",
        "뻬기 : -\n",
        "\n",
        "곱하기 : *\n",
        "\n",
        "나누기 :\n",
        "\n",
        "❖ / : 나누기와 동일한 기능 (예시:5/2 = 2.5)\n",
        "❖ // : 몫을 반환 (예시:5//2 = 2)\n",
        "❖ % : 나머지를 반환(예시:5%2 = 1)\n",
        "\n",
        "거듭제곱 : **"
      ],
      "metadata": {
        "id": "eEmr7alxNFLh"
      }
    },
    {
      "cell_type": "code",
      "source": [
        "#더하기\n",
        "print (5+4)"
      ],
      "metadata": {
        "colab": {
          "base_uri": "https://localhost:8080/"
        },
        "id": "FwlAA14byAH7",
        "outputId": "d8ba390e-4061-4fbb-c656-98799883a39c"
      },
      "execution_count": null,
      "outputs": [
        {
          "output_type": "stream",
          "name": "stdout",
          "text": [
            "9\n"
          ]
        }
      ]
    },
    {
      "cell_type": "code",
      "source": [
        "#빼기\n",
        "print (5-4)"
      ],
      "metadata": {
        "colab": {
          "base_uri": "https://localhost:8080/"
        },
        "id": "JCNPckioyIn0",
        "outputId": "43dd4703-1e21-4b19-e11d-c3a84c5bdd25"
      },
      "execution_count": null,
      "outputs": [
        {
          "output_type": "stream",
          "name": "stdout",
          "text": [
            "1\n"
          ]
        }
      ]
    },
    {
      "cell_type": "code",
      "source": [
        "#곱하기\n",
        "print (5*6)"
      ],
      "metadata": {
        "colab": {
          "base_uri": "https://localhost:8080/"
        },
        "id": "E7l6eLs4yIxb",
        "outputId": "177a294a-c568-48e4-8e46-7d8b40c0272d"
      },
      "execution_count": null,
      "outputs": [
        {
          "output_type": "stream",
          "name": "stdout",
          "text": [
            "30\n"
          ]
        }
      ]
    },
    {
      "cell_type": "code",
      "source": [
        "#나누기\n",
        "# /\n",
        "print (12 / 2)\n",
        "# // 몫\n",
        "print (10 // 3)\n",
        "# %\n",
        "print (10 % 3)"
      ],
      "metadata": {
        "colab": {
          "base_uri": "https://localhost:8080/"
        },
        "id": "LztzNdUVyI5j",
        "outputId": "6406722d-f241-4f90-f7d9-1d87a526c52b"
      },
      "execution_count": null,
      "outputs": [
        {
          "output_type": "stream",
          "name": "stdout",
          "text": [
            "6.0\n",
            "3\n",
            "1\n"
          ]
        }
      ]
    },
    {
      "cell_type": "markdown",
      "source": [
        "**내장함수** : 자주 사용하는 기능을 미리 생성해 놓은것을 내장함수라고 한다.\n",
        "\n",
        "**divmod **: 몫과 나머지를 동시에 구할수 있다."
      ],
      "metadata": {
        "id": "JM3FWB9Uy0nE"
      }
    },
    {
      "cell_type": "code",
      "source": [
        "print(divmod(5, 3))\n",
        "print(divmod(9, 2))\n",
        "print(divmod(11, 4))\n",
        "print(divmod(17, 5))\n",
        "print(divmod(14, 3))\n",
        "\n",
        "print(9//2,\",\", 7%4) #print는 하나의 출력값만 나온다. 중간에 반점을 하나 더 찍으면 추가로 출력이 가능하다."
      ],
      "metadata": {
        "colab": {
          "base_uri": "https://localhost:8080/"
        },
        "id": "HPDosG-szGtR",
        "outputId": "8e6a64d9-b23f-42a6-9f27-c3ffe575e5b1"
      },
      "execution_count": null,
      "outputs": [
        {
          "output_type": "stream",
          "name": "stdout",
          "text": [
            "(1, 2)\n",
            "(4, 1)\n",
            "(2, 3)\n",
            "(3, 2)\n",
            "(4, 2)\n",
            "4 , 3\n"
          ]
        }
      ]
    },
    {
      "cell_type": "markdown",
      "source": [
        "괄호\n",
        "\n",
        "수학에서 사용되는 괄호와 동일한 기능이다.\n",
        "\n",
        "() : 괄호안에 있는것을 먼저 계산한다.\n",
        "\n",
        "사칙연산의 순서 : 괄호 ➜ 곱셈, 나눗셈 ➜ 덧셈, 뺄셈"
      ],
      "metadata": {
        "id": "tEJb8GOk0NSS"
      }
    },
    {
      "cell_type": "code",
      "source": [
        "4 + 5 * 3"
      ],
      "metadata": {
        "colab": {
          "base_uri": "https://localhost:8080/"
        },
        "id": "o9J6uGQ20idq",
        "outputId": "46ec4390-06e0-4d4a-a604-d28e78542082"
      },
      "execution_count": null,
      "outputs": [
        {
          "output_type": "execute_result",
          "data": {
            "text/plain": [
              "19"
            ]
          },
          "metadata": {},
          "execution_count": 11
        }
      ]
    },
    {
      "cell_type": "code",
      "source": [
        "(7+4) * 2"
      ],
      "metadata": {
        "colab": {
          "base_uri": "https://localhost:8080/"
        },
        "id": "dCnbdbth0oM_",
        "outputId": "cfcad73c-f550-4590-b197-4e911d208c8c"
      },
      "execution_count": null,
      "outputs": [
        {
          "output_type": "execute_result",
          "data": {
            "text/plain": [
              "22"
            ]
          },
          "metadata": {},
          "execution_count": 12
        }
      ]
    }
  ]
}