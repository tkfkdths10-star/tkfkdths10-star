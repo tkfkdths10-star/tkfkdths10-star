{
  "cells": [
    {
      "cell_type": "markdown",
      "metadata": {
        "id": "view-in-github",
        "colab_type": "text"
      },
      "source": [
        "<a href=\"https://colab.research.google.com/github/tkfkdths10-star/tkfkdths10-star/blob/main/Chaper0913%EA%B3%BC%EC%A0%9C_task.ipynb\" target=\"_parent\"><img src=\"https://colab.research.google.com/assets/colab-badge.svg\" alt=\"Open In Colab\"/></a>"
      ]
    },
    {
      "cell_type": "markdown",
      "metadata": {
        "id": "fD4Qab2qYgOm"
      },
      "source": [
        "안녕하세요. 수강생 여러분~! Chapter09 ~ 13 수업은 잘 들으셨나요?\n",
        "\n",
        "Chapter09 ~ 13의 수업 내용을 바탕으로 아래 문제를 풀어주시면 됩니다.\n",
        "\n",
        "\n",
        "<br>\n",
        "\n",
        "\n",
        "[**답변 입력 방법**]\n",
        "\n",
        "문제 아래에 있는 코드 입력창에 정답코드를 작성하신 후  __▷ 버튼을 클릭해 코드를 실행__ 해보세요<br>"
      ]
    },
    {
      "cell_type": "markdown",
      "metadata": {
        "id": "xHIxx1X30OF3"
      },
      "source": [
        "---"
      ]
    },
    {
      "cell_type": "markdown",
      "metadata": {
        "id": "1e9zyTcB0OF4"
      },
      "source": [
        "__[문제0]__\n",
        "\n",
        "\n",
        "오즈 코딩 스쿨 백엔드 8기 과정에 참여한 수강생 중 3명의 수강생이 자율적으로 스터디 그룹을 결성했습니다.\n",
        "\n",
        "스터디 그룹 내에는 한 주간 배운 내용으로 매주 쪽지 시험을 보는 룰이 있습니다. 점수는 채점자 마음입니다.\n",
        "\n",
        "쪽지 시험의 점수를 직접 입력받고, 점수의 합을 출력해주세요!\n",
        "\n",
        "\n",
        "<br>\n",
        "\n"
      ]
    },
    {
      "cell_type": "code",
      "execution_count": 21,
      "metadata": {
        "colab": {
          "base_uri": "https://localhost:8080/"
        },
        "id": "FyhHCaeF0OF4",
        "outputId": "7408a229-8c88-48a2-f0e7-7ff4cad65f37"
      },
      "outputs": [
        {
          "output_type": "stream",
          "name": "stdout",
          "text": [
            "60\n",
            "70\n",
            "70\n",
            "200\n"
          ]
        }
      ],
      "source": [
        "student_score1 = int(input())\n",
        "student_score2 = int(input())\n",
        "student_score3 = int(input())\n",
        "\n",
        "total = student_score1 + student_score2 + student_score3\n",
        "print(total)"
      ]
    },
    {
      "cell_type": "markdown",
      "metadata": {
        "id": "swqdcIl8Yn-c"
      },
      "source": [
        "__[문제1]<br>__\n",
        "\n",
        "movie_rank 리스트에는 아래와 같이 네 개의 영화 제목이 바인딩되어 있다.\n",
        "\n",
        "\"비밀\"을 \"나폴레옹\"과 \"괴물\" 사이에 추가해주세요\n",
        "\n",
        "<br>\n",
        "\n",
        "```\n",
        "movie = ['서울의 봄', '나폴레옹', '괴물', '베트맨']\n",
        "```\n",
        "\n"
      ]
    },
    {
      "cell_type": "code",
      "execution_count": 24,
      "metadata": {
        "id": "vjUhNFdBYo2n",
        "colab": {
          "base_uri": "https://localhost:8080/"
        },
        "outputId": "f04562d7-1f0e-4946-cef8-5ed4b5a60c08"
      },
      "outputs": [
        {
          "output_type": "stream",
          "name": "stdout",
          "text": [
            "['서울의 봄', '나폴레옹', '비밀', '괴물', '베트맨']\n"
          ]
        }
      ],
      "source": [
        "movie = ['서울의 봄', '나폴레옹', '괴물', '베트맨']\n",
        "movie.insert(2, '비밀')\n",
        "print(movie)"
      ]
    },
    {
      "cell_type": "markdown",
      "metadata": {
        "id": "wyesCE9t0OF4"
      },
      "source": [
        "---"
      ]
    },
    {
      "cell_type": "markdown",
      "metadata": {
        "id": "KZBNuM5MYpZR"
      },
      "source": [
        "__[문제1-2]<br>__\n",
        "\n",
        "movie_rank 리스트에서 '베트맨'를 삭제해주세요\n",
        "\n",
        "<br>\n",
        "\n",
        "```\n",
        "movie = ['서울의 봄', '나폴레옹', '비밀', '괴물', '베트맨']\n",
        "```\n",
        "\n"
      ]
    },
    {
      "cell_type": "code",
      "execution_count": 25,
      "metadata": {
        "id": "cPezrT7cYreh",
        "colab": {
          "base_uri": "https://localhost:8080/"
        },
        "outputId": "50837cd5-6f3f-4046-ab82-0d17f178b920"
      },
      "outputs": [
        {
          "output_type": "stream",
          "name": "stdout",
          "text": [
            "['서울의 봄', '나폴레옹', '괴물']\n"
          ]
        }
      ],
      "source": [
        "movie = ['서울의 봄', '나폴레옹', '괴물', '베트맨']\n",
        "movie.remove('베트맨')\n",
        "print(movie)"
      ]
    },
    {
      "cell_type": "markdown",
      "metadata": {
        "id": "i8EJYPY0YsAe"
      },
      "source": [
        "__[문제2]<br>__\n",
        "\n",
        "[언어1]과 [언어2] 리스트가 있을 때 언어1과 언어2의 원소를 모두 갖고 있는 [언어모음]이라는 list를 만들어주세요\n",
        "\n",
        "```lang1 = [\"C\", \"C++\", \"JAVA\"]```<br>\n",
        "```lang2 = [\"Python\", \"Go\", \"C#\"]```  \n",
        "\n",
        "<br>\n",
        "실행 예)\n",
        "언어들\n",
        "['C', 'C++', 'JAVA', 'Python', 'Go', 'C#']"
      ]
    },
    {
      "cell_type": "code",
      "execution_count": 28,
      "metadata": {
        "colab": {
          "base_uri": "https://localhost:8080/"
        },
        "id": "YXCEMBq30OF5",
        "outputId": "b4eee676-8383-428f-cbed-c92832b350ab"
      },
      "outputs": [
        {
          "output_type": "stream",
          "name": "stdout",
          "text": [
            "['C', 'C++', 'JAVA', 'Python', 'Go', 'C#']\n"
          ]
        }
      ],
      "source": [
        "Lang1 = [\"C\", \"C++\", \"JAVA\"]\n",
        "Lang2 = [\"Python\", \"Go\", \"C#\"]\n",
        "언어모음 = (Lang1 + Lang2)\n",
        "print(언어모음)"
      ]
    },
    {
      "cell_type": "markdown",
      "metadata": {
        "id": "Gtl3NFIn0OF5"
      },
      "source": [
        "---"
      ]
    },
    {
      "cell_type": "markdown",
      "metadata": {
        "id": "5VFysaYRwT69"
      },
      "source": [
        "__[문제3]<br>__\n",
        "\n",
        "다음 리스트에서 최댓값과 최솟값, 그리고 평균을 출력해주세요.\n",
        "<br>\n",
        "\n",
        "```\n",
        "nums = [1, 2, 3, 4, 5, 6, 7, 9, 10]\n",
        "```\n",
        "\n"
      ]
    },
    {
      "cell_type": "code",
      "execution_count": 34,
      "metadata": {
        "colab": {
          "base_uri": "https://localhost:8080/"
        },
        "id": "j8JDYCKV0OF5",
        "outputId": "af187271-4f7b-4779-f320-893c1504e414"
      },
      "outputs": [
        {
          "output_type": "stream",
          "name": "stdout",
          "text": [
            "최대값:10\n",
            "최소값:1\n",
            "평균:5.222222222222222\n"
          ]
        }
      ],
      "source": [
        "nums = [1, 2, 3, 4, 5, 6, 7, 9, 10]\n",
        "max_value = max(nums)\n",
        "min_value = min(nums)\n",
        "mean_value = sum(nums) / len(nums)\n",
        "\n",
        "print(f'최대값:{max_value}')\n",
        "print(f'최소값:{min_value}')\n",
        "print(f'평균:{mean_value}')"
      ]
    },
    {
      "cell_type": "markdown",
      "metadata": {
        "id": "Vj7ede390OF5"
      },
      "source": [
        "---"
      ]
    },
    {
      "cell_type": "markdown",
      "metadata": {
        "id": "5_IA50IQE2AM"
      },
      "source": [
        "__[문제4]__\n",
        "\n",
        "다음 리스트에 저장된 데이터의 개수를 화면에 구해주세요\n",
        "\n",
        "```cook = [\"피자\", \"김밥\", \"만두\", \"양념치킨\", \"족발\", \"피자\", \"김치만두\", \"쫄면\"]```"
      ]
    },
    {
      "cell_type": "code",
      "execution_count": 36,
      "metadata": {
        "id": "iRDvWnF8wTXa",
        "colab": {
          "base_uri": "https://localhost:8080/"
        },
        "outputId": "6c37cf1d-b538-437c-82b1-5c93cab1a18f"
      },
      "outputs": [
        {
          "output_type": "stream",
          "name": "stdout",
          "text": [
            "8\n"
          ]
        }
      ],
      "source": [
        "cook = [\"피자\", \"김밥\", \"만두\", \"양념치킨\", \"족발\", \"피자\", \"김치만두\", \"쫄면\"]\n",
        "print(len(cook))"
      ]
    },
    {
      "cell_type": "markdown",
      "metadata": {
        "id": "lGVHxVxQ0OF5"
      },
      "source": [
        "---"
      ]
    },
    {
      "cell_type": "markdown",
      "metadata": {
        "id": "rqvaLuuj0OF6"
      },
      "source": [
        "---"
      ]
    },
    {
      "cell_type": "markdown",
      "metadata": {
        "id": "Cp7IpuJBFcq2"
      },
      "source": [
        "__[문제5]__\n",
        "\n",
        "price 변수에는 날짜와 종가 정보가 저장돼 있습니다.\n",
        "날짜 정보를 제외하고 가격 정보만을 출력해주세요\n",
        "\n",
        "```price = ['20180728', 100, 130, 140, 150, 160, 170]```\n",
        "\n",
        "<br>\n",
        "출력 예) [100, 130, 140, 150, 160, 170]"
      ]
    },
    {
      "cell_type": "code",
      "execution_count": 37,
      "metadata": {
        "id": "BpMb0bHPFdKF",
        "colab": {
          "base_uri": "https://localhost:8080/"
        },
        "outputId": "23e8e703-f189-4fa9-9d1f-4b09b6fed0bb"
      },
      "outputs": [
        {
          "output_type": "stream",
          "name": "stdout",
          "text": [
            "[100, 130, 140, 150, 160, 170]\n"
          ]
        }
      ],
      "source": [
        "price = ['20180728', 100, 130, 140, 150, 160, 170]\n",
        "print(price[1:])"
      ]
    },
    {
      "cell_type": "markdown",
      "metadata": {
        "id": "YdUj3iwW0OF6"
      },
      "source": [
        "---"
      ]
    },
    {
      "cell_type": "markdown",
      "metadata": {
        "id": "1DwclZivGe72"
      },
      "source": [
        "__[문제6]__\n",
        "\n",
        "<br>\n",
        "다음 딕셔너리를 사용하여 메로나 가격을 출력해주세요\n",
        "\n",
        "```ice = {'메로나': 1000,```<br>\n",
        "&emsp;&emsp;&emsp;&emsp;```'폴로포': 1200,```<br>\n",
        "&emsp;&emsp;&emsp;&emsp;```'빵빠레': 1800,```<br>\n",
        "&emsp;&emsp;&emsp;&emsp;```'죠스바': 1200,```<br>\n",
        "&emsp;&emsp;&emsp;&emsp;```'월드콘': 1500}```<br>\n",
        "\n",
        "<br>\n",
        "출력 예) 메로나 가격: 1000"
      ]
    },
    {
      "cell_type": "code",
      "execution_count": 38,
      "metadata": {
        "id": "jADTPFzOHcKk",
        "colab": {
          "base_uri": "https://localhost:8080/"
        },
        "outputId": "b564d080-ea15-4c3c-d2a5-af54871990a9"
      },
      "outputs": [
        {
          "output_type": "stream",
          "name": "stdout",
          "text": [
            "메로나의 가격: 1000\n"
          ]
        }
      ],
      "source": [
        "ice = {'메로나': 1000,\n",
        "    '폴로포': 1200,\n",
        "    '빵빠레': 1800,\n",
        "    '죠스바': 1200,\n",
        "    '월드콘': 1500}\n",
        "print(\"메로나의 가격:\", ice['메로나'])"
      ]
    },
    {
      "cell_type": "markdown",
      "metadata": {
        "id": "Mor-d3_F0OF6"
      },
      "source": [
        "---"
      ]
    },
    {
      "cell_type": "markdown",
      "metadata": {
        "id": "mBs2AaqcJAXN"
      },
      "source": [
        "__[문제6-1]__\n",
        "\n",
        "다음 딕셔너리에서 메로나의 가격을 1300으로 수정해주세요\n",
        "\n",
        "```ice = {'메로나': 1000,```<br>\n",
        "&emsp;&emsp;&emsp;&emsp;```'폴로포': 1200,```<br>\n",
        "&emsp;&emsp;&emsp;&emsp;```'빵빠레': 1800,```<br>\n",
        "&emsp;&emsp;&emsp;&emsp;```'죠스바': 1200,```<br>\n",
        "&emsp;&emsp;&emsp;&emsp;```'월드콘': 1500}```<br>"
      ]
    },
    {
      "cell_type": "code",
      "execution_count": 40,
      "metadata": {
        "id": "C2RyUgoTJKsF",
        "colab": {
          "base_uri": "https://localhost:8080/"
        },
        "outputId": "f52819ef-dec4-496f-9983-30ee755e1f9f"
      },
      "outputs": [
        {
          "output_type": "stream",
          "name": "stdout",
          "text": [
            "메로나의 가격 1300\n"
          ]
        }
      ],
      "source": [
        "ice = {'메로나': 1000,\n",
        "    '폴로포': 1200,\n",
        "    '빵빠레': 1800,\n",
        "    '죠스바': 1200,\n",
        "    '월드콘': 1500}\n",
        "ice['메로나'] = 1300\n",
        "print(\"메로나의 가격\", ice['메로나'])"
      ]
    },
    {
      "cell_type": "markdown",
      "metadata": {
        "id": "ditonxp10OF6"
      },
      "source": [
        "---"
      ]
    },
    {
      "cell_type": "markdown",
      "metadata": {
        "id": "_ZdcVEtTJKS1"
      },
      "source": [
        "__[문제7]__\n",
        "\n",
        "아래 순서대로 주어진 수강생 이름과 등급을 하나의 딕셔너리로 만드는 코드를 작성해주세요\n",
        "\n",
        "\n",
        "names : 나이썬, 김자바, 김씨, 박씨샵  \n",
        "grades :   B       B      A      C\n"
      ]
    },
    {
      "cell_type": "code",
      "execution_count": 45,
      "metadata": {
        "id": "7RyqlYwpJOp7",
        "colab": {
          "base_uri": "https://localhost:8080/"
        },
        "outputId": "509a408c-e1e7-4837-be39-979b0792f7f2"
      },
      "outputs": [
        {
          "output_type": "stream",
          "name": "stdout",
          "text": [
            "{'나이썬': 'B', '감자바': 'B', '김씨': 'A', '박씨샵': 'C'}\n"
          ]
        }
      ],
      "source": [
        "names = [\"나이썬\", \"감자바\", \"김씨\", \"박씨샵\"]\n",
        "grades = [\"B\", \"B\", \"A\", \"C\"]\n",
        "dic1 = dict(zip(names, grades))\n",
        "print(dic1)"
      ]
    },
    {
      "cell_type": "markdown",
      "metadata": {
        "id": "HHCZMfMr0OF6"
      },
      "source": [
        "---"
      ]
    },
    {
      "cell_type": "markdown",
      "metadata": {
        "id": "yzi6f2-YKsk4"
      },
      "source": [
        "__[문제8]__\n",
        "\n",
        "아래 ice 딕셔너리에 데이터를 추가 후 출력해주세요\n",
        "\n",
        "ice = {\"메로나\": [300, 20],  \n",
        "              \"비비빅\": [400, 3],  \n",
        "              \"죠스바\": [250, 100]}  \n",
        "\n",
        "\n",
        "추가해야하는 데이터) 이름 : 보석바, 가격:650, 재고:10"
      ]
    },
    {
      "cell_type": "code",
      "execution_count": 51,
      "metadata": {
        "colab": {
          "base_uri": "https://localhost:8080/"
        },
        "id": "dAfjARxe0OF6",
        "outputId": "512c7062-c2a2-4197-e352-8b682b1383a6"
      },
      "outputs": [
        {
          "output_type": "stream",
          "name": "stdout",
          "text": [
            "{'메로나': [300, 20], '비비빅': [400, 3], '죠스바': [250, 100], '보석바': [650, 10]}\n"
          ]
        }
      ],
      "source": [
        "ice = {\"메로나\":[300, 20],\n",
        "       \"비비빅\":[400, 3],\n",
        "       \"죠스바\":[250, 100]}\n",
        "ice[\"보석바\"] = [650, 10]\n",
        "print(ice)"
      ]
    },
    {
      "cell_type": "markdown",
      "metadata": {
        "id": "ZvrSO3lH0OF6"
      },
      "source": [
        "---"
      ]
    },
    {
      "cell_type": "markdown",
      "metadata": {
        "id": "RQJC80PBLWGt"
      },
      "source": [
        "__[문제9]__\n",
        "\n",
        "아래 딕셔너리에서 key만 list 형태로 출력해주세요\n",
        "\n",
        "ice = {'메로나': 1000, '폴로포': 1200, '빵빠레': 1800, '죠스바': 1200, '월드콘': 1500}\n"
      ]
    },
    {
      "cell_type": "code",
      "execution_count": 55,
      "metadata": {
        "id": "m5m-a09iLVbO",
        "colab": {
          "base_uri": "https://localhost:8080/"
        },
        "outputId": "3fd08a2f-5d22-490a-9aa9-b14a4e76618d"
      },
      "outputs": [
        {
          "output_type": "stream",
          "name": "stdout",
          "text": [
            "['메로나', '폴로포', '빵빠레', '죠스바', '월드콘']\n"
          ]
        }
      ],
      "source": [
        "ice = {'메로나': 1000, '폴로포': 1200, '빵빠레': 1800, '죠스바': 1200, '월드콘': 1500}\n",
        "print(list(ice.keys()))"
      ]
    }
  ],
  "metadata": {
    "colab": {
      "provenance": [],
      "include_colab_link": true
    },
    "kernelspec": {
      "display_name": "Python 3",
      "name": "python3"
    },
    "language_info": {
      "name": "python"
    }
  },
  "nbformat": 4,
  "nbformat_minor": 0
}